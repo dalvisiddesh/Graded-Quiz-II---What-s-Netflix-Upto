{
 "cells": [
  {
   "cell_type": "code",
   "execution_count": 2,
   "id": "02dea312-e87b-4bf9-8227-4001a9d40601",
   "metadata": {},
   "outputs": [
    {
     "name": "stdout",
     "output_type": "stream",
     "text": [
      "2770879\n"
     ]
    }
   ],
   "source": [
    "# There's an Indian movie in the dictionary named 'Do Paise Ki Dhoop Chaar Aane Ki Baarish'. What is the number of views for this movie?\n",
    "\n",
    "netflix = {'The Debt Collector': 1821195, 'Act of Vengeance': 2804479, 'Paradise Lost': 2195477, \"Gerald's Game\": 3650626, 'Long Shot': 638440, 'Mak Cun': 1010311, 'Our Souls at Night': 3028705, 'Out of Thin Air': 2681938, \"Paul Hollywood's Big Continental Road Trip\": 230689, 'Satu Hari': 1012350, 'Monster High: Boo York, Boo York': 1526025, 'Cultivating the Seas: History and Future of the Full-Cycle Cultured Kindai Tuna': 2762103, 'Domino': 872663, 'TUNA GIRL': 2574816, '5CM': 2647713, 'Animal World': 220789, 'Hold the Dark': 2307432, 'Lessons from a School Shooting: Notes from Dunblane': 2419534, 'Made in Mexico': 3653712, 'Single': 239278, 'The 3rd Eye': 196138, 'The Sinking Of Van Der Wijck': 2831856, 'Two Catalonias': 1337119, 'Bobby Sands: 66 Days': 2005623, 'Bard of Blood': 744998, 'Deliha 2': 3638900, 'Dragons: Rescue Riders': 3241239, 'In the Shadow of the Moon': 1213329, 'Skylines': 1840094, 'Sturgill Simpson Presents Sound & Fury': 1915540, 'The Politician': 1019394, 'Weeds on Fire': 2273090, 'Much Loved': 3039852, 'Joseph: King of Dreams': 1734449, 'Malaal': 1926128, 'The Grandmaster': 2549410, 'The Inmate': 130965, 'The Hurricane Heist': 2191538, 'Def Comedy Jam 25': 1392697, 'Restless Creature: Wendy Whelan': 2474412, 'Print the Legend': 548250, 'Birders': 3478883, 'Furie': 2755115, 'Leap!': 1401638, 'Oh! Baby (Malayalam)': 839139, 'Oh! Baby (Tamil)': 2691505, 'USS Indianapolis: Men of Courage': 3286014, 'A Wrinkle in Time': 1258861, 'Teach Us All': 2428947, 'White Island': 1152905, 'Inside Man: Most Wanted': 2812661, 'Jeff Dunham: Beside Himself': 2930368, 'China Salesman': 3377292, 'Swearnet: The Movie': 949689, 'The Bar': 620655, 'Manmadhudu 2': 1842761, 'Team Kaylie': 359856, 'Under the Eiffel Tower': 2298237, 'Audrie & Daisy': 1573055, 'Iliza Shlesinger: Confirmed Kills': 365220, 'BONDING': 1664242, 'Do Paise Ki Dhoop Chaar Aane Ki Baarish': 2770879, '20 Feet From Stardom': 2931730, 'In Darkness': 3248749, 'Gaga: Five Foot Two': 3719550, 'The Bad Batch': 3656264, 'SMOSH: The Movie': 3697506, 'King of Boys': 584112, 'Merry Men: The Real Yoruba Demons': 2035595, \"Sarah's Key\": 1337902, 'The Wedding Party 2: Destination Dubai': 1471204, 'Vagabond': 1600432, 'Battlefish': 723021, 'DRAGON PILOT: Hisone & Masotan': 602919, 'Hilda': 54948, 'Maniac': 1348196, 'Quincy': 2601704, 'Rafinha Bastos: Ultimatum': 3469996, 'The Good Cop': 2265521, 'Between Two Ferns: The Movie': 3146508, 'Criminal: France': 2021409, 'Criminal: Germany': 658824, 'Criminal: Spain': 3078634, 'Criminal: UK': 2721398, 'Daddy Issues': 2119035, \"Inside Bill's Brain: Decoding Bill Gates\": 1755104, 'The Hockey Girls': 2000507, 'Travel Mates 2': 707260, 'True: Tricky Treat Day': 3213199, 'Two Sentence Horror Stories': 2438329, 'Mad World': 2281773, 'Mobile Suit Gundam UC': 778879, 'The Bund': 1729892, 'The First Line': 674591, 'Maynard': 84986, 'Monkey Twins': 3277179, 'Bitcoin Heist': 1450158, 'I Am Not Madame Bovary': 2763830, 'Vincent N Roxxy': 1961810, \"Chef's Table: France\": 2065738}\n",
    "\n",
    "print(netflix['Do Paise Ki Dhoop Chaar Aane Ki Baarish'])  "
   ]
  },
  {
   "cell_type": "code",
   "execution_count": 4,
   "id": "d342ce14-4cd4-441a-ad7f-708986f598ae",
   "metadata": {},
   "outputs": [
    {
     "name": "stdout",
     "output_type": "stream",
     "text": [
      "Gaga: Five Foot Two\n",
      "Hilda\n"
     ]
    }
   ],
   "source": [
    "#Most and Least Popular\n",
    "#Which of the shows is the most and least popular in terms of number of views?\n",
    "netflix = {'The Debt Collector': 1821195, 'Act of Vengeance': 2804479, 'Paradise Lost': 2195477, \"Gerald's Game\": 3650626, 'Long Shot': 638440, 'Mak Cun': 1010311, 'Our Souls at Night': 3028705, 'Out of Thin Air': 2681938, \"Paul Hollywood's Big Continental Road Trip\": 230689, 'Satu Hari': 1012350, 'Monster High: Boo York, Boo York': 1526025, 'Cultivating the Seas: History and Future of the Full-Cycle Cultured Kindai Tuna': 2762103, 'Domino': 872663, 'TUNA GIRL': 2574816, '5CM': 2647713, 'Animal World': 220789, 'Hold the Dark': 2307432, 'Lessons from a School Shooting: Notes from Dunblane': 2419534, 'Made in Mexico': 3653712, 'Single': 239278, 'The 3rd Eye': 196138, 'The Sinking Of Van Der Wijck': 2831856, 'Two Catalonias': 1337119, 'Bobby Sands: 66 Days': 2005623, 'Bard of Blood': 744998, 'Deliha 2': 3638900, 'Dragons: Rescue Riders': 3241239, 'In the Shadow of the Moon': 1213329, 'Skylines': 1840094, 'Sturgill Simpson Presents Sound & Fury': 1915540, 'The Politician': 1019394, 'Weeds on Fire': 2273090, 'Much Loved': 3039852, 'Joseph: King of Dreams': 1734449, 'Malaal': 1926128, 'The Grandmaster': 2549410, 'The Inmate': 130965, 'The Hurricane Heist': 2191538, 'Def Comedy Jam 25': 1392697, 'Restless Creature: Wendy Whelan': 2474412, 'Print the Legend': 548250, 'Birders': 3478883, 'Furie': 2755115, 'Leap!': 1401638, 'Oh! Baby (Malayalam)': 839139, 'Oh! Baby (Tamil)': 2691505, 'USS Indianapolis: Men of Courage': 3286014, 'A Wrinkle in Time': 1258861, 'Teach Us All': 2428947, 'White Island': 1152905, 'Inside Man: Most Wanted': 2812661, 'Jeff Dunham: Beside Himself': 2930368, 'China Salesman': 3377292, 'Swearnet: The Movie': 949689, 'The Bar': 620655, 'Manmadhudu 2': 1842761, 'Team Kaylie': 359856, 'Under the Eiffel Tower': 2298237, 'Audrie & Daisy': 1573055, 'Iliza Shlesinger: Confirmed Kills': 365220, 'BONDING': 1664242, 'Do Paise Ki Dhoop Chaar Aane Ki Baarish': 2770879, '20 Feet From Stardom': 2931730, 'In Darkness': 3248749, 'Gaga: Five Foot Two': 3719550, 'The Bad Batch': 3656264, 'SMOSH: The Movie': 3697506, 'King of Boys': 584112, 'Merry Men: The Real Yoruba Demons': 2035595, \"Sarah's Key\": 1337902, 'The Wedding Party 2: Destination Dubai': 1471204, 'Vagabond': 1600432, 'Battlefish': 723021, 'DRAGON PILOT: Hisone & Masotan': 602919, 'Hilda': 54948, 'Maniac': 1348196, 'Quincy': 2601704, 'Rafinha Bastos: Ultimatum': 3469996, 'The Good Cop': 2265521, 'Between Two Ferns: The Movie': 3146508, 'Criminal: France': 2021409, 'Criminal: Germany': 658824, 'Criminal: Spain': 3078634, 'Criminal: UK': 2721398, 'Daddy Issues': 2119035, \"Inside Bill's Brain: Decoding Bill Gates\": 1755104, 'The Hockey Girls': 2000507, 'Travel Mates 2': 707260, 'True: Tricky Treat Day': 3213199, 'Two Sentence Horror Stories': 2438329, 'Mad World': 2281773, 'Mobile Suit Gundam UC': 778879, 'The Bund': 1729892, 'The First Line': 674591, 'Maynard': 84986, 'Monkey Twins': 3277179, 'Bitcoin Heist': 1450158, 'I Am Not Madame Bovary': 2763830, 'Vincent N Roxxy': 1961810, \"Chef's Table: France\": 2065738}\n",
    "\n",
    "print(max(netflix, key=netflix.get))\n",
    "print(min(netflix, key=netflix.get))"
   ]
  },
  {
   "cell_type": "code",
   "execution_count": 10,
   "id": "e30d50a3-d30c-4b57-8047-7dacfa467c27",
   "metadata": {},
   "outputs": [
    {
     "name": "stdout",
     "output_type": "stream",
     "text": [
      "Key 'The Debt Collector' has been updated from 1821195 to 229218\n",
      "Key 'Act of Vengeance' has been updated from 2804479 to 191468\n",
      "Key 'Paradise Lost' has been updated from 2195477 to 167846\n",
      "Key 'Gerald's Game' has been updated from 3650626 to 113298\n",
      "Key 'Long Shot' has been updated from 638440 to 15190\n",
      "Key 'Mak Cun' has been updated from 1010311 to 244581\n",
      "Key 'Our Souls at Night' has been updated from 3028705 to 188095\n",
      "Key 'Out of Thin Air' has been updated from 2681938 to 183961\n",
      "Key 'Paul Hollywood's Big Continental Road Trip' has been updated from 230689 to 207967\n",
      "Key 'Satu Hari' has been updated from 1012350 to 226211\n",
      "Key 'Monster High: Boo York, Boo York' has been updated from 1526025 to 265919\n",
      "Key 'Cultivating the Seas: History and Future of the Full-Cycle Cultured Kindai Tuna' has been updated from 2762103 to 192246\n",
      "Key 'Domino' has been updated from 872663 to 190538\n",
      "Key 'TUNA GIRL' has been updated from 2574816 to 301819\n",
      "Key '5CM' has been updated from 2647713 to 154371\n",
      "Key 'Animal World' has been updated from 220789 to 228227\n",
      "Key 'Hold the Dark' has been updated from 2307432 to 222938\n",
      "Key 'Lessons from a School Shooting: Notes from Dunblane' has been updated from 2419534 to 256580\n",
      "Key 'Made in Mexico' has been updated from 3653712 to 199790\n",
      "Key 'Single' has been updated from 239278 to 155517\n",
      "Key 'The 3rd Eye' has been updated from 196138 to 251349\n",
      "Key 'The Sinking Of Van Der Wijck' has been updated from 2831856 to 153797\n",
      "Key 'Two Catalonias' has been updated from 1337119 to 189422\n",
      "Key 'Bobby Sands: 66 Days' has been updated from 2005623 to 202461\n",
      "Key 'Bard of Blood' has been updated from 744998 to 241928\n",
      "Key 'Deliha 2' has been updated from 3638900 to 304552\n",
      "Key 'Dragons: Rescue Riders' has been updated from 3241239 to 155149\n",
      "Key 'In the Shadow of the Moon' has been updated from 1213329 to 222999\n",
      "Key 'Skylines' has been updated from 1840094 to 118737\n",
      "Key 'Sturgill Simpson Presents Sound & Fury' has been updated from 1915540 to 43590\n",
      "Key 'The Politician' has been updated from 1019394 to 11902\n",
      "Key 'Weeds on Fire' has been updated from 2273090 to 243382\n",
      "Key 'Much Loved' has been updated from 3039852 to 190123\n",
      "Key 'Joseph: King of Dreams' has been updated from 1734449 to 46104\n",
      "Key 'Malaal' has been updated from 1926128 to 70961\n",
      "Key 'The Grandmaster' has been updated from 2549410 to 44908\n",
      "Key 'The Inmate' has been updated from 130965 to 19574\n",
      "Key 'The Hurricane Heist' has been updated from 2191538 to 167696\n",
      "Key 'Def Comedy Jam 25' has been updated from 1392697 to 208075\n",
      "Key 'Restless Creature: Wendy Whelan' has been updated from 2474412 to 22976\n",
      "Key 'Print the Legend' has been updated from 548250 to 161584\n",
      "Key 'Birders' has been updated from 3478883 to 257668\n",
      "Key 'Furie' has been updated from 2755115 to 282266\n",
      "Key 'Leap!' has been updated from 1401638 to 124338\n",
      "Key 'Oh! Baby (Malayalam)' has been updated from 839139 to 18203\n",
      "Key 'Oh! Baby (Tamil)' has been updated from 2691505 to 131481\n",
      "Key 'USS Indianapolis: Men of Courage' has been updated from 3286014 to 76558\n",
      "Key 'A Wrinkle in Time' has been updated from 1258861 to 169365\n",
      "Key 'Teach Us All' has been updated from 2428947 to 50378\n",
      "Key 'White Island' has been updated from 1152905 to 299779\n",
      "Key 'Inside Man: Most Wanted' has been updated from 2812661 to 123346\n",
      "Key 'Jeff Dunham: Beside Himself' has been updated from 2930368 to 283561\n",
      "Key 'China Salesman' has been updated from 3377292 to 182041\n",
      "Key 'Swearnet: The Movie' has been updated from 949689 to 63809\n",
      "Key 'The Bar' has been updated from 620655 to 41243\n",
      "Key 'Manmadhudu 2' has been updated from 1842761 to 261349\n",
      "Key 'Team Kaylie' has been updated from 359856 to 101283\n",
      "Key 'Under the Eiffel Tower' has been updated from 2298237 to 83650\n",
      "Key 'Audrie & Daisy' has been updated from 1573055 to 106092\n",
      "Key 'Iliza Shlesinger: Confirmed Kills' has been updated from 365220 to 255103\n",
      "Key 'BONDING' has been updated from 1664242 to 202683\n",
      "Key 'Do Paise Ki Dhoop Chaar Aane Ki Baarish' has been updated from 2770879 to 32329\n",
      "Key '20 Feet From Stardom' has been updated from 2931730 to 165178\n",
      "Key 'In Darkness' has been updated from 3248749 to 95259\n",
      "Key 'Gaga: Five Foot Two' has been updated from 3719550 to 36638\n",
      "Key 'The Bad Batch' has been updated from 3656264 to 197820\n",
      "Key 'SMOSH: The Movie' has been updated from 3697506 to 196519\n",
      "Key 'King of Boys' has been updated from 584112 to 49332\n",
      "Key 'Merry Men: The Real Yoruba Demons' has been updated from 2035595 to 293229\n",
      "Key 'Sarah's Key' has been updated from 1337902 to 178523\n",
      "Key 'The Wedding Party 2: Destination Dubai' has been updated from 1471204 to 51211\n",
      "Key 'Vagabond' has been updated from 1600432 to 116831\n",
      "Key 'Battlefish' has been updated from 723021 to 5448\n",
      "Key 'DRAGON PILOT: Hisone & Masotan' has been updated from 602919 to 281873\n",
      "Key 'Hilda' has been updated from 54948 to 21348\n",
      "Key 'Maniac' has been updated from 1348196 to 268187\n",
      "Key 'Quincy' has been updated from 2601704 to 139696\n",
      "Key 'Rafinha Bastos: Ultimatum' has been updated from 3469996 to 105449\n",
      "Key 'The Good Cop' has been updated from 2265521 to 73230\n",
      "Key 'Between Two Ferns: The Movie' has been updated from 3146508 to 135600\n",
      "Key 'Criminal: France' has been updated from 2021409 to 243469\n",
      "Key 'Criminal: Germany' has been updated from 658824 to 285211\n",
      "Key 'Criminal: Spain' has been updated from 3078634 to 45184\n",
      "Key 'Criminal: UK' has been updated from 2721398 to 117056\n",
      "Key 'Daddy Issues' has been updated from 2119035 to 267329\n",
      "Key 'Inside Bill's Brain: Decoding Bill Gates' has been updated from 1755104 to 64083\n",
      "Key 'The Hockey Girls' has been updated from 2000507 to 114146\n",
      "Key 'Travel Mates 2' has been updated from 707260 to 21088\n",
      "Key 'True: Tricky Treat Day' has been updated from 3213199 to 116504\n",
      "Key 'Two Sentence Horror Stories' has been updated from 2438329 to 274471\n",
      "Key 'Mad World' has been updated from 2281773 to 225244\n",
      "Key 'Mobile Suit Gundam UC' has been updated from 778879 to 47306\n",
      "Key 'The Bund' has been updated from 1729892 to 146872\n",
      "Key 'The First Line' has been updated from 674591 to 148861\n",
      "Key 'Maynard' has been updated from 84986 to 87252\n",
      "Key 'Monkey Twins' has been updated from 3277179 to 199274\n",
      "Key 'Bitcoin Heist' has been updated from 1450158 to 41105\n",
      "Key 'I Am Not Madame Bovary' has been updated from 2763830 to 57841\n",
      "Key 'Vincent N Roxxy' has been updated from 1961810 to 207453\n",
      "Key 'Chef's Table: France' has been updated from 2065738 to 200536\n",
      "Deliha 2\n",
      "304552\n",
      "155149\n",
      "105449\n",
      "36638\n"
     ]
    }
   ],
   "source": [
    "#Last Week Views\n",
    "#Netflix has just recieved the number of views for the last week as well. Add these views to the total views and find the most popular title in terms of views. Also find out how many views this title has? \n",
    "\n",
    "netflix = {'The Debt Collector': 1821195, 'Act of Vengeance': 2804479, 'Paradise Lost': 2195477, \"Gerald's Game\": 3650626, 'Long Shot': 638440, 'Mak Cun': 1010311, 'Our Souls at Night': 3028705, 'Out of Thin Air': 2681938, \"Paul Hollywood's Big Continental Road Trip\": 230689, 'Satu Hari': 1012350, 'Monster High: Boo York, Boo York': 1526025, 'Cultivating the Seas: History and Future of the Full-Cycle Cultured Kindai Tuna': 2762103, 'Domino': 872663, 'TUNA GIRL': 2574816, '5CM': 2647713, 'Animal World': 220789, 'Hold the Dark': 2307432, 'Lessons from a School Shooting: Notes from Dunblane': 2419534, 'Made in Mexico': 3653712, 'Single': 239278, 'The 3rd Eye': 196138, 'The Sinking Of Van Der Wijck': 2831856, 'Two Catalonias': 1337119, 'Bobby Sands: 66 Days': 2005623, 'Bard of Blood': 744998, 'Deliha 2': 3638900, 'Dragons: Rescue Riders': 3241239, 'In the Shadow of the Moon': 1213329, 'Skylines': 1840094, 'Sturgill Simpson Presents Sound & Fury': 1915540, 'The Politician': 1019394, 'Weeds on Fire': 2273090, 'Much Loved': 3039852, 'Joseph: King of Dreams': 1734449, 'Malaal': 1926128, 'The Grandmaster': 2549410, 'The Inmate': 130965, 'The Hurricane Heist': 2191538, 'Def Comedy Jam 25': 1392697, 'Restless Creature: Wendy Whelan': 2474412, 'Print the Legend': 548250, 'Birders': 3478883, 'Furie': 2755115, 'Leap!': 1401638, 'Oh! Baby (Malayalam)': 839139, 'Oh! Baby (Tamil)': 2691505, 'USS Indianapolis: Men of Courage': 3286014, 'A Wrinkle in Time': 1258861, 'Teach Us All': 2428947, 'White Island': 1152905, 'Inside Man: Most Wanted': 2812661, 'Jeff Dunham: Beside Himself': 2930368, 'China Salesman': 3377292, 'Swearnet: The Movie': 949689, 'The Bar': 620655, 'Manmadhudu 2': 1842761, 'Team Kaylie': 359856, 'Under the Eiffel Tower': 2298237, 'Audrie & Daisy': 1573055, 'Iliza Shlesinger: Confirmed Kills': 365220, 'BONDING': 1664242, 'Do Paise Ki Dhoop Chaar Aane Ki Baarish': 2770879, '20 Feet From Stardom': 2931730, 'In Darkness': 3248749, 'Gaga: Five Foot Two': 3719550, 'The Bad Batch': 3656264, 'SMOSH: The Movie': 3697506, 'King of Boys': 584112, 'Merry Men: The Real Yoruba Demons': 2035595, \"Sarah's Key\": 1337902, 'The Wedding Party 2: Destination Dubai': 1471204, 'Vagabond': 1600432, 'Battlefish': 723021, 'DRAGON PILOT: Hisone & Masotan': 602919, 'Hilda': 54948, 'Maniac': 1348196, 'Quincy': 2601704, 'Rafinha Bastos: Ultimatum': 3469996, 'The Good Cop': 2265521, 'Between Two Ferns: The Movie': 3146508, 'Criminal: France': 2021409, 'Criminal: Germany': 658824, 'Criminal: Spain': 3078634, 'Criminal: UK': 2721398, 'Daddy Issues': 2119035, \"Inside Bill's Brain: Decoding Bill Gates\": 1755104, 'The Hockey Girls': 2000507, 'Travel Mates 2': 707260, 'True: Tricky Treat Day': 3213199, 'Two Sentence Horror Stories': 2438329, 'Mad World': 2281773, 'Mobile Suit Gundam UC': 778879, 'The Bund': 1729892, 'The First Line': 674591, 'Maynard': 84986, 'Monkey Twins': 3277179, 'Bitcoin Heist': 1450158, 'I Am Not Madame Bovary': 2763830, 'Vincent N Roxxy': 1961810, \"Chef's Table: France\": 2065738}\n",
    "netflix_last_week = {'The Debt Collector': 229218, 'Act of Vengeance': 191468, 'Paradise Lost': 167846, \"Gerald's Game\": 113298, 'Long Shot': 15190, 'Mak Cun': 244581, 'Our Souls at Night': 188095, 'Out of Thin Air': 183961, \"Paul Hollywood's Big Continental Road Trip\": 207967, 'Satu Hari': 226211, 'Monster High: Boo York, Boo York': 265919, 'Cultivating the Seas: History and Future of the Full-Cycle Cultured Kindai Tuna': 192246, 'Domino': 190538, 'TUNA GIRL': 301819, '5CM': 154371, 'Animal World': 228227, 'Hold the Dark': 222938, 'Lessons from a School Shooting: Notes from Dunblane': 256580, 'Made in Mexico': 199790, 'Single': 155517, 'The 3rd Eye': 251349, 'The Sinking Of Van Der Wijck': 153797, 'Two Catalonias': 189422, 'Bobby Sands: 66 Days': 202461, 'Bard of Blood': 241928, 'Deliha 2': 304552, 'Dragons: Rescue Riders': 155149, 'In the Shadow of the Moon': 222999, 'Skylines': 118737, 'Sturgill Simpson Presents Sound & Fury': 43590, 'The Politician': 11902, 'Weeds on Fire': 243382, 'Much Loved': 190123, 'Joseph: King of Dreams': 46104, 'Malaal': 70961, 'The Grandmaster': 44908, 'The Inmate': 19574, 'The Hurricane Heist': 167696, 'Def Comedy Jam 25': 208075, 'Restless Creature: Wendy Whelan': 22976, 'Print the Legend': 161584, 'Birders': 257668, 'Furie': 282266, 'Leap!': 124338, 'Oh! Baby (Malayalam)': 18203, 'Oh! Baby (Tamil)': 131481, 'USS Indianapolis: Men of Courage': 76558, 'A Wrinkle in Time': 169365, 'Teach Us All': 50378, 'White Island': 299779, 'Inside Man: Most Wanted': 123346, 'Jeff Dunham: Beside Himself': 283561, 'China Salesman': 182041, 'Swearnet: The Movie': 63809, 'The Bar': 41243, 'Manmadhudu 2': 261349, 'Team Kaylie': 101283, 'Under the Eiffel Tower': 83650, 'Audrie & Daisy': 106092, 'Iliza Shlesinger: Confirmed Kills': 255103, 'BONDING': 202683, 'Do Paise Ki Dhoop Chaar Aane Ki Baarish': 32329, '20 Feet From Stardom': 165178, 'In Darkness': 95259, 'Gaga: Five Foot Two': 36638, 'The Bad Batch': 197820, 'SMOSH: The Movie': 196519, 'King of Boys': 49332, 'Merry Men: The Real Yoruba Demons': 293229, \"Sarah's Key\": 178523, 'The Wedding Party 2: Destination Dubai': 51211, 'Vagabond': 116831, 'Battlefish': 5448, 'DRAGON PILOT: Hisone & Masotan': 281873, 'Hilda': 21348, 'Maniac': 268187, 'Quincy': 139696, 'Rafinha Bastos: Ultimatum': 105449, 'The Good Cop': 73230, 'Between Two Ferns: The Movie': 135600, 'Criminal: France': 243469, 'Criminal: Germany': 285211, 'Criminal: Spain': 45184, 'Criminal: UK': 117056, 'Daddy Issues': 267329, \"Inside Bill's Brain: Decoding Bill Gates\": 64083, 'The Hockey Girls': 114146, 'Travel Mates 2': 21088, 'True: Tricky Treat Day': 116504, 'Two Sentence Horror Stories': 274471, 'Mad World': 225244, 'Mobile Suit Gundam UC': 47306, 'The Bund': 146872, 'The First Line': 148861, 'Maynard': 87252, 'Monkey Twins': 199274, 'Bitcoin Heist': 41105, 'I Am Not Madame Bovary': 57841, 'Vincent N Roxxy': 207453, \"Chef's Table: France\": 200536}\n",
    "\n",
    "for key in netflix:\n",
    "    if key in netflix_last_week and netflix[key] != netflix_last_week[key]:\n",
    "        print(f\"Key '{key}' has been updated from {netflix[key]} to {netflix_last_week[key]}\")\n",
    "\n",
    "print(max(netflix_last_week, key=netflix_last_week.get))\n",
    "print(netflix_last_week['Deliha 2']) \n",
    "print(netflix_last_week['Dragons: Rescue Riders']) \n",
    "print(netflix_last_week['Rafinha Bastos: Ultimatum']) \n",
    "print(netflix_last_week['Gaga: Five Foot Two']) \n"
   ]
  },
  {
   "cell_type": "code",
   "execution_count": 13,
   "id": "3412f1ab-9f68-4d67-beb6-2ea701030bc4",
   "metadata": {},
   "outputs": [
    {
     "name": "stdout",
     "output_type": "stream",
     "text": [
      "Most popular title: Deliha 2\n",
      "Views: 3943452\n"
     ]
    }
   ],
   "source": [
    "#Last Week Views\n",
    "#Netflix has just recieved the number of views for the last week as well. Add these views to the total views and find the most popular title in terms of views. Also find out how many views this title has? \n",
    "#Method 2\n",
    "netflix = {'The Debt Collector': 1821195, 'Act of Vengeance': 2804479, 'Paradise Lost': 2195477, \"Gerald's Game\": 3650626, 'Long Shot': 638440, 'Mak Cun': 1010311, 'Our Souls at Night': 3028705, 'Out of Thin Air': 2681938, \"Paul Hollywood's Big Continental Road Trip\": 230689, 'Satu Hari': 1012350, 'Monster High: Boo York, Boo York': 1526025, 'Cultivating the Seas: History and Future of the Full-Cycle Cultured Kindai Tuna': 2762103, 'Domino': 872663, 'TUNA GIRL': 2574816, '5CM': 2647713, 'Animal World': 220789, 'Hold the Dark': 2307432, 'Lessons from a School Shooting: Notes from Dunblane': 2419534, 'Made in Mexico': 3653712, 'Single': 239278, 'The 3rd Eye': 196138, 'The Sinking Of Van Der Wijck': 2831856, 'Two Catalonias': 1337119, 'Bobby Sands: 66 Days': 2005623, 'Bard of Blood': 744998, 'Deliha 2': 3638900, 'Dragons: Rescue Riders': 3241239, 'In the Shadow of the Moon': 1213329, 'Skylines': 1840094, 'Sturgill Simpson Presents Sound & Fury': 1915540, 'The Politician': 1019394, 'Weeds on Fire': 2273090, 'Much Loved': 3039852, 'Joseph: King of Dreams': 1734449, 'Malaal': 1926128, 'The Grandmaster': 2549410, 'The Inmate': 130965, 'The Hurricane Heist': 2191538, 'Def Comedy Jam 25': 1392697, 'Restless Creature: Wendy Whelan': 2474412, 'Print the Legend': 548250, 'Birders': 3478883, 'Furie': 2755115, 'Leap!': 1401638, 'Oh! Baby (Malayalam)': 839139, 'Oh! Baby (Tamil)': 2691505, 'USS Indianapolis: Men of Courage': 3286014, 'A Wrinkle in Time': 1258861, 'Teach Us All': 2428947, 'White Island': 1152905, 'Inside Man: Most Wanted': 2812661, 'Jeff Dunham: Beside Himself': 2930368, 'China Salesman': 3377292, 'Swearnet: The Movie': 949689, 'The Bar': 620655, 'Manmadhudu 2': 1842761, 'Team Kaylie': 359856, 'Under the Eiffel Tower': 2298237, 'Audrie & Daisy': 1573055, 'Iliza Shlesinger: Confirmed Kills': 365220, 'BONDING': 1664242, 'Do Paise Ki Dhoop Chaar Aane Ki Baarish': 2770879, '20 Feet From Stardom': 2931730, 'In Darkness': 3248749, 'Gaga: Five Foot Two': 3719550, 'The Bad Batch': 3656264, 'SMOSH: The Movie': 3697506, 'King of Boys': 584112, 'Merry Men: The Real Yoruba Demons': 2035595, \"Sarah's Key\": 1337902, 'The Wedding Party 2: Destination Dubai': 1471204, 'Vagabond': 1600432, 'Battlefish': 723021, 'DRAGON PILOT: Hisone & Masotan': 602919, 'Hilda': 54948, 'Maniac': 1348196, 'Quincy': 2601704, 'Rafinha Bastos: Ultimatum': 3469996, 'The Good Cop': 2265521, 'Between Two Ferns: The Movie': 3146508, 'Criminal: France': 2021409, 'Criminal: Germany': 658824, 'Criminal: Spain': 3078634, 'Criminal: UK': 2721398, 'Daddy Issues': 2119035, \"Inside Bill's Brain: Decoding Bill Gates\": 1755104, 'The Hockey Girls': 2000507, 'Travel Mates 2': 707260, 'True: Tricky Treat Day': 3213199, 'Two Sentence Horror Stories': 2438329, 'Mad World': 2281773, 'Mobile Suit Gundam UC': 778879, 'The Bund': 1729892, 'The First Line': 674591, 'Maynard': 84986, 'Monkey Twins': 3277179, 'Bitcoin Heist': 1450158, 'I Am Not Madame Bovary': 2763830, 'Vincent N Roxxy': 1961810, \"Chef's Table: France\": 2065738}\n",
    "netflix_last_week = {'The Debt Collector': 229218, 'Act of Vengeance': 191468, 'Paradise Lost': 167846, \"Gerald's Game\": 113298, 'Long Shot': 15190, 'Mak Cun': 244581, 'Our Souls at Night': 188095, 'Out of Thin Air': 183961, \"Paul Hollywood's Big Continental Road Trip\": 207967, 'Satu Hari': 226211, 'Monster High: Boo York, Boo York': 265919, 'Cultivating the Seas: History and Future of the Full-Cycle Cultured Kindai Tuna': 192246, 'Domino': 190538, 'TUNA GIRL': 301819, '5CM': 154371, 'Animal World': 228227, 'Hold the Dark': 222938, 'Lessons from a School Shooting: Notes from Dunblane': 256580, 'Made in Mexico': 199790, 'Single': 155517, 'The 3rd Eye': 251349, 'The Sinking Of Van Der Wijck': 153797, 'Two Catalonias': 189422, 'Bobby Sands: 66 Days': 202461, 'Bard of Blood': 241928, 'Deliha 2': 304552, 'Dragons: Rescue Riders': 155149, 'In the Shadow of the Moon': 222999, 'Skylines': 118737, 'Sturgill Simpson Presents Sound & Fury': 43590, 'The Politician': 11902, 'Weeds on Fire': 243382, 'Much Loved': 190123, 'Joseph: King of Dreams': 46104, 'Malaal': 70961, 'The Grandmaster': 44908, 'The Inmate': 19574, 'The Hurricane Heist': 167696, 'Def Comedy Jam 25': 208075, 'Restless Creature: Wendy Whelan': 22976, 'Print the Legend': 161584, 'Birders': 257668, 'Furie': 282266, 'Leap!': 124338, 'Oh! Baby (Malayalam)': 18203, 'Oh! Baby (Tamil)': 131481, 'USS Indianapolis: Men of Courage': 76558, 'A Wrinkle in Time': 169365, 'Teach Us All': 50378, 'White Island': 299779, 'Inside Man: Most Wanted': 123346, 'Jeff Dunham: Beside Himself': 283561, 'China Salesman': 182041, 'Swearnet: The Movie': 63809, 'The Bar': 41243, 'Manmadhudu 2': 261349, 'Team Kaylie': 101283, 'Under the Eiffel Tower': 83650, 'Audrie & Daisy': 106092, 'Iliza Shlesinger: Confirmed Kills': 255103, 'BONDING': 202683, 'Do Paise Ki Dhoop Chaar Aane Ki Baarish': 32329, '20 Feet From Stardom': 165178, 'In Darkness': 95259, 'Gaga: Five Foot Two': 36638, 'The Bad Batch': 197820, 'SMOSH: The Movie': 196519, 'King of Boys': 49332, 'Merry Men: The Real Yoruba Demons': 293229, \"Sarah's Key\": 178523, 'The Wedding Party 2: Destination Dubai': 51211, 'Vagabond': 116831, 'Battlefish': 5448, 'DRAGON PILOT: Hisone & Masotan': 281873, 'Hilda': 21348, 'Maniac': 268187, 'Quincy': 139696, 'Rafinha Bastos: Ultimatum': 105449, 'The Good Cop': 73230, 'Between Two Ferns: The Movie': 135600, 'Criminal: France': 243469, 'Criminal: Germany': 285211, 'Criminal: Spain': 45184, 'Criminal: UK': 117056, 'Daddy Issues': 267329, \"Inside Bill's Brain: Decoding Bill Gates\": 64083, 'The Hockey Girls': 114146, 'Travel Mates 2': 21088, 'True: Tricky Treat Day': 116504, 'Two Sentence Horror Stories': 274471, 'Mad World': 225244, 'Mobile Suit Gundam UC': 47306, 'The Bund': 146872, 'The First Line': 148861, 'Maynard': 87252, 'Monkey Twins': 199274, 'Bitcoin Heist': 41105, 'I Am Not Madame Bovary': 57841, 'Vincent N Roxxy': 207453, \"Chef's Table: France\": 200536}\n",
    "\n",
    "# Add last week's views to total views\n",
    "for key in netflix:\n",
    "    if key in netflix_last_week:\n",
    "        netflix[key] += netflix_last_week[key]\n",
    "\n",
    "# Find the most popular title\n",
    "most_popular_title = max(netflix, key=netflix.get)\n",
    "\n",
    "# Find the views of the most popular title\n",
    "most_popular_views = netflix[most_popular_title]\n",
    "\n",
    "print(f\"Most popular title: {most_popular_title}\")\n",
    "print(f\"Views: {most_popular_views}\")\n",
    "        "
   ]
  }
 ],
 "metadata": {
  "kernelspec": {
   "display_name": "Python 3 (ipykernel)",
   "language": "python",
   "name": "python3"
  },
  "language_info": {
   "codemirror_mode": {
    "name": "ipython",
    "version": 3
   },
   "file_extension": ".py",
   "mimetype": "text/x-python",
   "name": "python",
   "nbconvert_exporter": "python",
   "pygments_lexer": "ipython3",
   "version": "3.12.3"
  }
 },
 "nbformat": 4,
 "nbformat_minor": 5
}
